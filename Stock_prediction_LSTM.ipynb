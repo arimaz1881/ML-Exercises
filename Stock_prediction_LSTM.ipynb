{
  "nbformat": 4,
  "nbformat_minor": 0,
  "metadata": {
    "colab": {
      "provenance": []
    },
    "kernelspec": {
      "name": "python3",
      "display_name": "Python 3"
    },
    "language_info": {
      "name": "python"
    }
  },
  "cells": [
    {
      "cell_type": "code",
      "source": [
        "!pip install scikit-learn\n"
      ],
      "metadata": {
        "colab": {
          "base_uri": "https://localhost:8080/"
        },
        "id": "TQurpx_vMPXk",
        "outputId": "809544c6-4b59-45b6-f0ca-28f5b99703bc"
      },
      "execution_count": 1,
      "outputs": [
        {
          "output_type": "stream",
          "name": "stdout",
          "text": [
            "Requirement already satisfied: scikit-learn in c:\\users\\user\\appdata\\local\\programs\\python\\python312\\lib\\site-packages (1.4.1.post1)\n",
            "Requirement already satisfied: numpy<2.0,>=1.19.5 in c:\\users\\user\\appdata\\local\\programs\\python\\python312\\lib\\site-packages (from scikit-learn) (1.26.4)\n",
            "Requirement already satisfied: scipy>=1.6.0 in c:\\users\\user\\appdata\\local\\programs\\python\\python312\\lib\\site-packages (from scikit-learn) (1.12.0)\n",
            "Requirement already satisfied: joblib>=1.2.0 in c:\\users\\user\\appdata\\local\\programs\\python\\python312\\lib\\site-packages (from scikit-learn) (1.3.2)\n",
            "Requirement already satisfied: threadpoolctl>=2.0.0 in c:\\users\\user\\appdata\\local\\programs\\python\\python312\\lib\\site-packages (from scikit-learn) (3.4.0)\n"
          ]
        }
      ]
    },
    {
      "cell_type": "code",
      "execution_count": 2,
      "metadata": {
        "id": "kZl0sCX19rFI"
      },
      "outputs": [],
      "source": [
        "import pandas as pd\n",
        "import numpy as np\n",
        "import matplotlib.pyplot as plt\n",
        "\n",
        "import torch\n",
        "import torch.nn as nn"
      ]
    },
    {
      "cell_type": "code",
      "source": [
        "#dataset address https://drive.google.com/file/d/1MqY9yaql1XQbodFSngsHxGbyLdWRhVXj/view?usp=sharing\n",
        "data = pd.read_csv('AMZN.csv')\n",
        "data.head()"
      ],
      "metadata": {
        "colab": {
          "base_uri": "https://localhost:8080/",
          "height": 206
        },
        "id": "C-C_CVYH9zzl",
        "outputId": "2f58e0b3-cefa-4162-d11b-aec3ef678a55"
      },
      "execution_count": 3,
      "outputs": [
        {
          "output_type": "execute_result",
          "data": {
            "text/plain": [
              "         Date      Open      High       Low     Close  Adj Close      Volume\n",
              "0  1997-05-15  0.121875  0.125000  0.096354  0.097917   0.097917  1443120000\n",
              "1  1997-05-16  0.098438  0.098958  0.085417  0.086458   0.086458   294000000\n",
              "2  1997-05-19  0.088021  0.088542  0.081250  0.085417   0.085417   122136000\n",
              "3  1997-05-20  0.086458  0.087500  0.081771  0.081771   0.081771   109344000\n",
              "4  1997-05-21  0.081771  0.082292  0.068750  0.071354   0.071354   377064000"
            ],
            "text/html": [
              "<div>\n",
              "<style scoped>\n",
              "    .dataframe tbody tr th:only-of-type {\n",
              "        vertical-align: middle;\n",
              "    }\n",
              "\n",
              "    .dataframe tbody tr th {\n",
              "        vertical-align: top;\n",
              "    }\n",
              "\n",
              "    .dataframe thead th {\n",
              "        text-align: right;\n",
              "    }\n",
              "</style>\n",
              "<table border=\"1\" class=\"dataframe\">\n",
              "  <thead>\n",
              "    <tr style=\"text-align: right;\">\n",
              "      <th></th>\n",
              "      <th>Date</th>\n",
              "      <th>Open</th>\n",
              "      <th>High</th>\n",
              "      <th>Low</th>\n",
              "      <th>Close</th>\n",
              "      <th>Adj Close</th>\n",
              "      <th>Volume</th>\n",
              "    </tr>\n",
              "  </thead>\n",
              "  <tbody>\n",
              "    <tr>\n",
              "      <th>0</th>\n",
              "      <td>1997-05-15</td>\n",
              "      <td>0.121875</td>\n",
              "      <td>0.125000</td>\n",
              "      <td>0.096354</td>\n",
              "      <td>0.097917</td>\n",
              "      <td>0.097917</td>\n",
              "      <td>1443120000</td>\n",
              "    </tr>\n",
              "    <tr>\n",
              "      <th>1</th>\n",
              "      <td>1997-05-16</td>\n",
              "      <td>0.098438</td>\n",
              "      <td>0.098958</td>\n",
              "      <td>0.085417</td>\n",
              "      <td>0.086458</td>\n",
              "      <td>0.086458</td>\n",
              "      <td>294000000</td>\n",
              "    </tr>\n",
              "    <tr>\n",
              "      <th>2</th>\n",
              "      <td>1997-05-19</td>\n",
              "      <td>0.088021</td>\n",
              "      <td>0.088542</td>\n",
              "      <td>0.081250</td>\n",
              "      <td>0.085417</td>\n",
              "      <td>0.085417</td>\n",
              "      <td>122136000</td>\n",
              "    </tr>\n",
              "    <tr>\n",
              "      <th>3</th>\n",
              "      <td>1997-05-20</td>\n",
              "      <td>0.086458</td>\n",
              "      <td>0.087500</td>\n",
              "      <td>0.081771</td>\n",
              "      <td>0.081771</td>\n",
              "      <td>0.081771</td>\n",
              "      <td>109344000</td>\n",
              "    </tr>\n",
              "    <tr>\n",
              "      <th>4</th>\n",
              "      <td>1997-05-21</td>\n",
              "      <td>0.081771</td>\n",
              "      <td>0.082292</td>\n",
              "      <td>0.068750</td>\n",
              "      <td>0.071354</td>\n",
              "      <td>0.071354</td>\n",
              "      <td>377064000</td>\n",
              "    </tr>\n",
              "  </tbody>\n",
              "</table>\n",
              "</div>"
            ]
          },
          "metadata": {},
          "execution_count": 3
        }
      ]
    },
    {
      "cell_type": "code",
      "source": [
        "data = data[['Date', 'Close']]\n",
        "data"
      ],
      "metadata": {
        "colab": {
          "base_uri": "https://localhost:8080/",
          "height": 423
        },
        "id": "Y9i14AOh9zoz",
        "outputId": "4d539465-1011-4070-fbf2-1e306eab5bdf"
      },
      "execution_count": 4,
      "outputs": [
        {
          "output_type": "execute_result",
          "data": {
            "text/plain": [
              "            Date       Close\n",
              "0     1997-05-15    0.097917\n",
              "1     1997-05-16    0.086458\n",
              "2     1997-05-19    0.085417\n",
              "3     1997-05-20    0.081771\n",
              "4     1997-05-21    0.071354\n",
              "...          ...         ...\n",
              "6511  2023-03-30  102.000000\n",
              "6512  2023-03-31  103.290001\n",
              "6513  2023-04-03  102.410004\n",
              "6514  2023-04-04  103.949997\n",
              "6515  2023-04-05  101.099998\n",
              "\n",
              "[6516 rows x 2 columns]"
            ],
            "text/html": [
              "<div>\n",
              "<style scoped>\n",
              "    .dataframe tbody tr th:only-of-type {\n",
              "        vertical-align: middle;\n",
              "    }\n",
              "\n",
              "    .dataframe tbody tr th {\n",
              "        vertical-align: top;\n",
              "    }\n",
              "\n",
              "    .dataframe thead th {\n",
              "        text-align: right;\n",
              "    }\n",
              "</style>\n",
              "<table border=\"1\" class=\"dataframe\">\n",
              "  <thead>\n",
              "    <tr style=\"text-align: right;\">\n",
              "      <th></th>\n",
              "      <th>Date</th>\n",
              "      <th>Close</th>\n",
              "    </tr>\n",
              "  </thead>\n",
              "  <tbody>\n",
              "    <tr>\n",
              "      <th>0</th>\n",
              "      <td>1997-05-15</td>\n",
              "      <td>0.097917</td>\n",
              "    </tr>\n",
              "    <tr>\n",
              "      <th>1</th>\n",
              "      <td>1997-05-16</td>\n",
              "      <td>0.086458</td>\n",
              "    </tr>\n",
              "    <tr>\n",
              "      <th>2</th>\n",
              "      <td>1997-05-19</td>\n",
              "      <td>0.085417</td>\n",
              "    </tr>\n",
              "    <tr>\n",
              "      <th>3</th>\n",
              "      <td>1997-05-20</td>\n",
              "      <td>0.081771</td>\n",
              "    </tr>\n",
              "    <tr>\n",
              "      <th>4</th>\n",
              "      <td>1997-05-21</td>\n",
              "      <td>0.071354</td>\n",
              "    </tr>\n",
              "    <tr>\n",
              "      <th>...</th>\n",
              "      <td>...</td>\n",
              "      <td>...</td>\n",
              "    </tr>\n",
              "    <tr>\n",
              "      <th>6511</th>\n",
              "      <td>2023-03-30</td>\n",
              "      <td>102.000000</td>\n",
              "    </tr>\n",
              "    <tr>\n",
              "      <th>6512</th>\n",
              "      <td>2023-03-31</td>\n",
              "      <td>103.290001</td>\n",
              "    </tr>\n",
              "    <tr>\n",
              "      <th>6513</th>\n",
              "      <td>2023-04-03</td>\n",
              "      <td>102.410004</td>\n",
              "    </tr>\n",
              "    <tr>\n",
              "      <th>6514</th>\n",
              "      <td>2023-04-04</td>\n",
              "      <td>103.949997</td>\n",
              "    </tr>\n",
              "    <tr>\n",
              "      <th>6515</th>\n",
              "      <td>2023-04-05</td>\n",
              "      <td>101.099998</td>\n",
              "    </tr>\n",
              "  </tbody>\n",
              "</table>\n",
              "<p>6516 rows × 2 columns</p>\n",
              "</div>"
            ]
          },
          "metadata": {},
          "execution_count": 4
        }
      ]
    },
    {
      "cell_type": "code",
      "source": [
        "device = torch.device('cuda' if torch.cuda.is_available() else 'cpu')\n",
        "device"
      ],
      "metadata": {
        "colab": {
          "base_uri": "https://localhost:8080/"
        },
        "id": "b7eKFZMN9zOd",
        "outputId": "3a585029-85d7-4b19-8990-c8cac34ef142"
      },
      "execution_count": 5,
      "outputs": [
        {
          "output_type": "execute_result",
          "data": {
            "text/plain": [
              "device(type='cpu')"
            ]
          },
          "metadata": {},
          "execution_count": 5
        }
      ]
    },
    {
      "cell_type": "code",
      "source": [
        "data['Date'] = pd.to_datetime(data['Date'])\n",
        "\n",
        "plt.plot(data[\"Date\"], data[\"Close\"])"
      ],
      "metadata": {
        "colab": {
          "base_uri": "https://localhost:8080/",
          "height": 447
        },
        "id": "MD883WwIAt_Y",
        "outputId": "d165c09c-54af-4124-dd09-3512f0b69cb7"
      },
      "execution_count": 6,
      "outputs": [
        {
          "output_type": "execute_result",
          "data": {
            "text/plain": [
              "[<matplotlib.lines.Line2D at 0x23952b9e240>]"
            ]
          },
          "metadata": {},
          "execution_count": 6
        },
        {
          "output_type": "display_data",
          "data": {
            "text/plain": [
              "<Figure size 640x480 with 1 Axes>"
            ],
            "image/png": "[encoded data removed]"
          },
          "metadata": {}
        }
      ]
    },
    {
      "cell_type": "code",
      "source": [
        "#@title Shift the data, so it's sequential 7 days back\n",
        "from copy import deepcopy as dc\n",
        "\n",
        "def prepare_dataframe_for_lstm(df, n_steps):\n",
        "    new_df = dc(df)\n",
        "\n",
        "    new_df.set_index('Date', inplace=True)\n",
        "\n",
        "    for i in range(1, n_steps+1):\n",
        "        new_df[f'Close(t-{i})'] = new_df['Close'].shift(i)\n",
        "        # it appends new columns to the dataframe iteratively\n",
        "\n",
        "    new_df.dropna(inplace=True)\n",
        "    return new_df\n",
        "\n",
        "lookback = 7\n",
        "shifted_df = prepare_dataframe_for_lstm(data, lookback)\n",
        "shifted_df"
      ],
      "metadata": {
        "colab": {
          "base_uri": "https://localhost:8080/",
          "height": 666
        },
        "id": "bvzM-oVWBIFs",
        "outputId": "b0b3fc58-307c-4413-fb9f-e274321e1618"
      },
      "execution_count": 7,
      "outputs": [
        {
          "output_type": "execute_result",
          "data": {
            "text/plain": [
              "                 Close  Close(t-1)  Close(t-2)  Close(t-3)  Close(t-4)  \\\n",
              "Date                                                                     \n",
              "1997-05-27    0.079167    0.075000    0.069792    0.071354    0.081771   \n",
              "1997-05-28    0.076563    0.079167    0.075000    0.069792    0.071354   \n",
              "1997-05-29    0.075260    0.076563    0.079167    0.075000    0.069792   \n",
              "1997-05-30    0.075000    0.075260    0.076563    0.079167    0.075000   \n",
              "1997-06-02    0.075521    0.075000    0.075260    0.076563    0.079167   \n",
              "...                ...         ...         ...         ...         ...   \n",
              "2023-03-30  102.000000  100.250000   97.239998   98.040001   98.129997   \n",
              "2023-03-31  103.290001  102.000000  100.250000   97.239998   98.040001   \n",
              "2023-04-03  102.410004  103.290001  102.000000  100.250000   97.239998   \n",
              "2023-04-04  103.949997  102.410004  103.290001  102.000000  100.250000   \n",
              "2023-04-05  101.099998  103.949997  102.410004  103.290001  102.000000   \n",
              "\n",
              "            Close(t-5)  Close(t-6)  Close(t-7)  \n",
              "Date                                            \n",
              "1997-05-27    0.085417    0.086458    0.097917  \n",
              "1997-05-28    0.081771    0.085417    0.086458  \n",
              "1997-05-29    0.071354    0.081771    0.085417  \n",
              "1997-05-30    0.069792    0.071354    0.081771  \n",
              "1997-06-02    0.075000    0.069792    0.071354  \n",
              "...                ...         ...         ...  \n",
              "2023-03-30   98.709999   98.699997  100.610001  \n",
              "2023-03-31   98.129997   98.709999   98.699997  \n",
              "2023-04-03   98.040001   98.129997   98.709999  \n",
              "2023-04-04   97.239998   98.040001   98.129997  \n",
              "2023-04-05  100.250000   97.239998   98.040001  \n",
              "\n",
              "[6509 rows x 8 columns]"
            ],
            "text/html": [
              "<div>\n",
              "<style scoped>\n",
              "    .dataframe tbody tr th:only-of-type {\n",
              "        vertical-align: middle;\n",
              "    }\n",
              "\n",
              "    .dataframe tbody tr th {\n",
              "        vertical-align: top;\n",
              "    }\n",
              "\n",
              "    .dataframe thead th {\n",
              "        text-align: right;\n",
              "    }\n",
              "</style>\n",
              "<table border=\"1\" class=\"dataframe\">\n",
              "  <thead>\n",
              "    <tr style=\"text-align: right;\">\n",
              "      <th></th>\n",
              "      <th>Close</th>\n",
              "      <th>Close(t-1)</th>\n",
              "      <th>Close(t-2)</th>\n",
              "      <th>Close(t-3)</th>\n",
              "      <th>Close(t-4)</th>\n",
              "      <th>Close(t-5)</th>\n",
              "      <th>Close(t-6)</th>\n",
              "      <th>Close(t-7)</th>\n",
              "    </tr>\n",
              "    <tr>\n",
              "      <th>Date</th>\n",
              "      <th></th>\n",
              "      <th></th>\n",
              "      <th></th>\n",
              "      <th></th>\n",
              "      <th></th>\n",
              "      <th></th>\n",
              "      <th></th>\n",
              "      <th></th>\n",
              "    </tr>\n",
              "  </thead>\n",
              "  <tbody>\n",
              "    <tr>\n",
              "      <th>1997-05-27</th>\n",
              "      <td>0.079167</td>\n",
              "      <td>0.075000</td>\n",
              "      <td>0.069792</td>\n",
              "      <td>0.071354</td>\n",
              "      <td>0.081771</td>\n",
              "      <td>0.085417</td>\n",
              "      <td>0.086458</td>\n",
              "      <td>0.097917</td>\n",
              "    </tr>\n",
              "    <tr>\n",
              "      <th>1997-05-28</th>\n",
              "      <td>0.076563</td>\n",
              "      <td>0.079167</td>\n",
              "      <td>0.075000</td>\n",
              "      <td>0.069792</td>\n",
              "      <td>0.071354</td>\n",
              "      <td>0.081771</td>\n",
              "      <td>0.085417</td>\n",
              "      <td>0.086458</td>\n",
              "    </tr>\n",
              "    <tr>\n",
              "      <th>1997-05-29</th>\n",
              "      <td>0.075260</td>\n",
              "      <td>0.076563</td>\n",
              "      <td>0.079167</td>\n",
              "      <td>0.075000</td>\n",
              "      <td>0.069792</td>\n",
              "      <td>0.071354</td>\n",
              "      <td>0.081771</td>\n",
              "      <td>0.085417</td>\n",
              "    </tr>\n",
              "    <tr>\n",
              "      <th>1997-05-30</th>\n",
              "      <td>0.075000</td>\n",
              "      <td>0.075260</td>\n",
              "      <td>0.076563</td>\n",
              "      <td>0.079167</td>\n",
              "      <td>0.075000</td>\n",
              "      <td>0.069792</td>\n",
              "      <td>0.071354</td>\n",
              "      <td>0.081771</td>\n",
              "    </tr>\n",
              "    <tr>\n",
              "      <th>1997-06-02</th>\n",
              "      <td>0.075521</td>\n",
              "      <td>0.075000</td>\n",
              "      <td>0.075260</td>\n",
              "      <td>0.076563</td>\n",
              "      <td>0.079167</td>\n",
              "      <td>0.075000</td>\n",
              "      <td>0.069792</td>\n",
              "      <td>0.071354</td>\n",
              "    </tr>\n",
              "    <tr>\n",
              "      <th>...</th>\n",
              "      <td>...</td>\n",
              "      <td>...</td>\n",
              "      <td>...</td>\n",
              "      <td>...</td>\n",
              "      <td>...</td>\n",
              "      <td>...</td>\n",
              "      <td>...</td>\n",
              "      <td>...</td>\n",
              "    </tr>\n",
              "    <tr>\n",
              "      <th>2023-03-30</th>\n",
              "      <td>102.000000</td>\n",
              "      <td>100.250000</td>\n",
              "      <td>97.239998</td>\n",
              "      <td>98.040001</td>\n",
              "      <td>98.129997</td>\n",
              "      <td>98.709999</td>\n",
              "      <td>98.699997</td>\n",
              "      <td>100.610001</td>\n",
              "    </tr>\n",
              "    <tr>\n",
              "      <th>2023-03-31</th>\n",
              "      <td>103.290001</td>\n",
              "      <td>102.000000</td>\n",
              "      <td>100.250000</td>\n",
              "      <td>97.239998</td>\n",
              "      <td>98.040001</td>\n",
              "      <td>98.129997</td>\n",
              "      <td>98.709999</td>\n",
              "      <td>98.699997</td>\n",
              "    </tr>\n",
              "    <tr>\n",
              "      <th>2023-04-03</th>\n",
              "      <td>102.410004</td>\n",
              "      <td>103.290001</td>\n",
              "      <td>102.000000</td>\n",
              "      <td>100.250000</td>\n",
              "      <td>97.239998</td>\n",
              "      <td>98.040001</td>\n",
              "      <td>98.129997</td>\n",
              "      <td>98.709999</td>\n",
              "    </tr>\n",
              "    <tr>\n",
              "      <th>2023-04-04</th>\n",
              "      <td>103.949997</td>\n",
              "      <td>102.410004</td>\n",
              "      <td>103.290001</td>\n",
              "      <td>102.000000</td>\n",
              "      <td>100.250000</td>\n",
              "      <td>97.239998</td>\n",
              "      <td>98.040001</td>\n",
              "      <td>98.129997</td>\n",
              "    </tr>\n",
              "    <tr>\n",
              "      <th>2023-04-05</th>\n",
              "      <td>101.099998</td>\n",
              "      <td>103.949997</td>\n",
              "      <td>102.410004</td>\n",
              "      <td>103.290001</td>\n",
              "      <td>102.000000</td>\n",
              "      <td>100.250000</td>\n",
              "      <td>97.239998</td>\n",
              "      <td>98.040001</td>\n",
              "    </tr>\n",
              "  </tbody>\n",
              "</table>\n",
              "<p>6509 rows × 8 columns</p>\n",
              "</div>"
            ]
          },
          "metadata": {},
          "execution_count": 7
        }
      ]
    },
    {
      "cell_type": "code",
      "source": [
        "data_np = shifted_df.to_numpy()\n",
        "data_np"
      ],
      "metadata": {
        "colab": {
          "base_uri": "https://localhost:8080/"
        },
        "id": "6CSg860QDnFQ",
        "outputId": "733fc3cf-2434-4200-c5d2-bea556e6ac5f"
      },
      "execution_count": 8,
      "outputs": [
        {
          "output_type": "execute_result",
          "data": {
            "text/plain": [
              "array([[7.91670000e-02, 7.50000000e-02, 6.97920000e-02, ...,\n",
              "        8.54170000e-02, 8.64580000e-02, 9.79170000e-02],\n",
              "       [7.65630000e-02, 7.91670000e-02, 7.50000000e-02, ...,\n",
              "        8.17710000e-02, 8.54170000e-02, 8.64580000e-02],\n",
              "       [7.52600000e-02, 7.65630000e-02, 7.91670000e-02, ...,\n",
              "        7.13540000e-02, 8.17710000e-02, 8.54170000e-02],\n",
              "       ...,\n",
              "       [1.02410004e+02, 1.03290001e+02, 1.02000000e+02, ...,\n",
              "        9.80400010e+01, 9.81299970e+01, 9.87099990e+01],\n",
              "       [1.03949997e+02, 1.02410004e+02, 1.03290001e+02, ...,\n",
              "        9.72399980e+01, 9.80400010e+01, 9.81299970e+01],\n",
              "       [1.01099998e+02, 1.03949997e+02, 1.02410004e+02, ...,\n",
              "        1.00250000e+02, 9.72399980e+01, 9.80400010e+01]])"
            ]
          },
          "metadata": {},
          "execution_count": 8
        }
      ]
    },
    {
      "cell_type": "code",
      "source": [
        "data_np[0].shape"
      ],
      "metadata": {
        "colab": {
          "base_uri": "https://localhost:8080/"
        },
        "id": "4WHcEA_7G-Bq",
        "outputId": "8926d540-0a4f-40b1-fe62-bb25d04c4f63"
      },
      "execution_count": 9,
      "outputs": [
        {
          "output_type": "execute_result",
          "data": {
            "text/plain": [
              "(8,)"
            ]
          },
          "metadata": {},
          "execution_count": 9
        }
      ]
    },
    {
      "cell_type": "code",
      "source": [
        "from sklearn.preprocessing import MinMaxScaler\n",
        "\n",
        "scaler = MinMaxScaler(feature_range=(-1, 1))\n",
        "data_np = scaler.fit_transform(data_np)\n",
        "\n",
        "data_np"
      ],
      "metadata": {
        "colab": {
          "base_uri": "https://localhost:8080/"
        },
        "id": "0t3nW6G8Tcyt",
        "outputId": "e4412884-acd1-46b1-b205-130683f8d600"
      },
      "execution_count": 10,
      "outputs": [
        {
          "output_type": "execute_result",
          "data": {
            "text/plain": [
              "array([[-0.99991063, -0.99995531, -1.        , ..., -0.99983244,\n",
              "        -0.99982128, -0.99969839],\n",
              "       [-0.99993855, -0.99991063, -0.99994415, ..., -0.99987154,\n",
              "        -0.99983244, -0.99982128],\n",
              "       [-0.99995253, -0.99993855, -0.99989946, ..., -0.99998325,\n",
              "        -0.99987154, -0.99983244],\n",
              "       ...,\n",
              "       [ 0.09747299,  0.10690997,  0.09308121, ...,  0.0506149 ,\n",
              "         0.05158   ,  0.05779984],\n",
              "       [ 0.11398769,  0.09747299,  0.10691495, ...,  0.04203581,\n",
              "         0.0506149 ,  0.05158   ],\n",
              "       [ 0.08342464,  0.11398769,  0.09747802, ...,  0.07431453,\n",
              "         0.04203581,  0.0506149 ]])"
            ]
          },
          "metadata": {},
          "execution_count": 10
        }
      ]
    },
    {
      "cell_type": "code",
      "source": [
        "X = data_np[:, 1:]\n",
        "y = data_np[:, 0]\n",
        "\n",
        "X.shape, y.shape"
      ],
      "metadata": {
        "colab": {
          "base_uri": "https://localhost:8080/"
        },
        "id": "9YipOMQMUfJM",
        "outputId": "f248981c-1a74-4e95-f04f-256da1e66158"
      },
      "execution_count": 11,
      "outputs": [
        {
          "output_type": "execute_result",
          "data": {
            "text/plain": [
              "((6509, 7), (6509,))"
            ]
          },
          "metadata": {},
          "execution_count": 11
        }
      ]
    },
    {
      "cell_type": "code",
      "source": [
        "X = dc(np.flip(X, axis=1)) ## reverse the order of days in shifted dataset\n",
        "X                          ## so that older days come first"
      ],
      "metadata": {
        "colab": {
          "base_uri": "https://localhost:8080/"
        },
        "id": "QGfJAV4VUu6s",
        "outputId": "90c7fc0f-3e3f-499e-f9ef-7316642eb61d"
      },
      "execution_count": 12,
      "outputs": [
        {
          "output_type": "execute_result",
          "data": {
            "text/plain": [
              "array([[-0.99969839, -0.99982128, -0.99983244, ..., -0.99998325,\n",
              "        -1.        , -0.99995531],\n",
              "       [-0.99982128, -0.99983244, -0.99987154, ..., -1.        ,\n",
              "        -0.99994415, -0.99991063],\n",
              "       [-0.99983244, -0.99987154, -0.99998325, ..., -0.99994415,\n",
              "        -0.99989946, -0.99993855],\n",
              "       ...,\n",
              "       [ 0.05779984,  0.05158   ,  0.0506149 , ...,  0.07431453,\n",
              "         0.09308121,  0.10690997],\n",
              "       [ 0.05158   ,  0.0506149 ,  0.04203581, ...,  0.09308121,\n",
              "         0.10691495,  0.09747299],\n",
              "       [ 0.0506149 ,  0.04203581,  0.07431453, ...,  0.10691495,\n",
              "         0.09747802,  0.11398769]])"
            ]
          },
          "metadata": {},
          "execution_count": 12
        }
      ]
    },
    {
      "cell_type": "code",
      "source": [
        "#@title We gonna divide dataset on 95% train data and 5% test\n",
        "split_index = int(len(X) * 0.95)\n",
        "split_index"
      ],
      "metadata": {
        "colab": {
          "base_uri": "https://localhost:8080/"
        },
        "id": "xIK4N6fDWI0W",
        "outputId": "dbe66965-1b0d-4467-b267-5aceba613cc4"
      },
      "execution_count": 13,
      "outputs": [
        {
          "output_type": "execute_result",
          "data": {
            "text/plain": [
              "6183"
            ]
          },
          "metadata": {},
          "execution_count": 13
        }
      ]
    },
    {
      "cell_type": "code",
      "source": [
        "X_train = X[:split_index]\n",
        "X_test = X[split_index:]\n",
        "\n",
        "y_train = y[:split_index]\n",
        "y_test = y[split_index:]\n",
        "\n",
        "X_train.shape, X_test.shape, y_train.shape, y_test.shape"
      ],
      "metadata": {
        "colab": {
          "base_uri": "https://localhost:8080/"
        },
        "id": "cMFx7-qcV0HA",
        "outputId": "d6505de5-339d-4df4-bce0-7bc57e624279"
      },
      "execution_count": 14,
      "outputs": [
        {
          "output_type": "execute_result",
          "data": {
            "text/plain": [
              "((6183, 7), (326, 7), (6183,), (326,))"
            ]
          },
          "metadata": {},
          "execution_count": 14
        }
      ]
    },
    {
      "cell_type": "code",
      "source": [
        "X_train = X_train.reshape((-1, lookback, 1))\n",
        "X_test = X_test.reshape((-1, lookback, 1))\n",
        "\n",
        "y_train = y_train.reshape((-1, 1))\n",
        "y_test = y_test.reshape((-1, 1))\n",
        "\n",
        "X_train.shape, X_test.shape, y_train.shape, y_test.shape"
      ],
      "metadata": {
        "colab": {
          "base_uri": "https://localhost:8080/"
        },
        "id": "9vbTvq2VXCjk",
        "outputId": "486c484c-da8c-4b33-eac5-0eddf0f953fd"
      },
      "execution_count": 15,
      "outputs": [
        {
          "output_type": "execute_result",
          "data": {
            "text/plain": [
              "((6183, 7, 1), (326, 7, 1), (6183, 1), (326, 1))"
            ]
          },
          "metadata": {},
          "execution_count": 15
        }
      ]
    },
    {
      "cell_type": "code",
      "source": [
        "#@title Convert data matrices into torch tensors\n",
        "X_train = torch.tensor(X_train).float()\n",
        "X_test = torch.tensor(X_test).float()\n",
        "\n",
        "y_train = torch.tensor(y_train).float()\n",
        "y_test = torch.tensor(y_test).float()\n",
        "\n",
        "X_train.shape, X_test.shape, y_train.shape, y_test.shape"
      ],
      "metadata": {
        "colab": {
          "base_uri": "https://localhost:8080/"
        },
        "id": "YZjLpQ2OX8zB",
        "outputId": "36c2f88a-ca03-4a0f-b6b7-4e090aee502f"
      },
      "execution_count": 16,
      "outputs": [
        {
          "output_type": "execute_result",
          "data": {
            "text/plain": [
              "(torch.Size([6183, 7, 1]),\n",
              " torch.Size([326, 7, 1]),\n",
              " torch.Size([6183, 1]),\n",
              " torch.Size([326, 1]))"
            ]
          },
          "metadata": {},
          "execution_count": 16
        }
      ]
    },
    {
      "cell_type": "code",
      "source": [
        "#@title Convert torch tensors into Dataset object\n",
        "from torch.utils.data import Dataset\n",
        "\n",
        "class TimeSeriesDataset(Dataset):\n",
        "    def __init__(self, X, y):\n",
        "        self.X = X\n",
        "        self.y = y\n",
        "        # write down data into class attributes\n",
        "\n",
        "    def __len__(self):\n",
        "        return len(self.X)\n",
        "\n",
        "    def __getitem__(self, index):\n",
        "        return self.X[index], self.y[index]"
      ],
      "metadata": {
        "id": "cojCkom4YSUB"
      },
      "execution_count": 17,
      "outputs": []
    },
    {
      "cell_type": "code",
      "source": [
        "train_dataset = TimeSeriesDataset(X_train, y_train) # объекты Dataset, содержащие в себе все датапойнты\n",
        "test_dataset = TimeSeriesDataset(X_test, y_test)"
      ],
      "metadata": {
        "id": "lEvK_UpKaN12"
      },
      "execution_count": 18,
      "outputs": []
    },
    {
      "cell_type": "code",
      "source": [
        "from torch.utils.data import DataLoader\n",
        "\n",
        "BATCH_SIZE = 16\n",
        "\n",
        "loader = {\n",
        "    'train': DataLoader(train_dataset, batch_size=BATCH_SIZE, shuffle=True),\n",
        "    'test': DataLoader(test_dataset, batch_size=BATCH_SIZE, shuffle=True)\n",
        "}\n",
        "## ДатаЛоадер возвращает те самые self.X[index], self.y[index] из метода __getitem__\n",
        "## но в батчах и шаффлит (перемешивает)"
      ],
      "metadata": {
        "id": "ccwo_8EkabKR"
      },
      "execution_count": 19,
      "outputs": []
    },
    {
      "cell_type": "code",
      "source": [
        "for inputs, targets in loader['train']:\n",
        "    inputs, targets = inputs.to(device), targets.to(device)\n",
        "    print(inputs.shape, targets.shape)\n",
        "    print(inputs.size(0))\n",
        "    break"
      ],
      "metadata": {
        "colab": {
          "base_uri": "https://localhost:8080/"
        },
        "id": "bX475g3xbKM_",
        "outputId": "59b8c7a0-a08d-435a-934c-6daf5867b876"
      },
      "execution_count": 20,
      "outputs": [
        {
          "output_type": "stream",
          "name": "stdout",
          "text": [
            "torch.Size([16, 7, 1]) torch.Size([16, 1])\n",
            "16\n"
          ]
        }
      ]
    },
    {
      "cell_type": "code",
      "source": [
        "# this LSTM considers only 1 input feature and it's 'Closing' value\n",
        "# even though we split it into 7 columns of 7 days sequence, it's still 1 feature\n",
        "class ModelLSTM(nn.Module):\n",
        "    \"\"\"\n",
        "    params:\n",
        "    input_size – The number of expected features in the input x\n",
        "    hidden_size – The number of features in the hidden state h\n",
        "    num_layers – Number of recurrent layers. E.g., setting num_layers=2\n",
        "         would mean stacking two LSTMs together to form a stacked LSTM,\n",
        "         with the second LSTM taking in outputs of the first LSTM\n",
        "         and computing the final results. Default: 1\"\"\"\n",
        "\n",
        "    def __init__(self, input_size, hidden_size, num_stacked_layers):\n",
        "        super().__init__()\n",
        "        self.hidden_size = hidden_size\n",
        "        self.num_stacked_layers = num_stacked_layers\n",
        "\n",
        "        self.lstm = nn.LSTM(input_size, hidden_size, num_stacked_layers,\n",
        "                            batch_first=True)\n",
        "        # as batch_first=True, batch_size comes first in input dimentionality, otherwise sequence_length comes first in LSTM layers inputs\n",
        "        self.fc = nn.Linear(hidden_size, 1)\n",
        "\n",
        "    def forward(self, x):\n",
        "        batch_size = x.size(0)\n",
        "        # initialize hidden state and cell state of LSTM with zeros\n",
        "        h0 = torch.zeros(self.num_stacked_layers, batch_size, self.hidden_size).to(device)\n",
        "        c0 = torch.zeros(self.num_stacked_layers, batch_size, self.hidden_size).to(device)\n",
        "        # LSTM input dimentions with batch_first=True [batch_size, sequence_length, input_size]\n",
        "        # LSTM output dimentionality is [batch_size, sequence_length, hidden_size]\n",
        "        # Output shape of LSTM layer: torch.Size([16, 7, 4])\n",
        "        out, _ = self.lstm(x, (h0, c0))\n",
        "        # lstm takes as input and gives as output cell and hidden states\n",
        "        # it outputs them so we can pass those vectors elsewhere\n",
        "        out = self.fc(out[:, -1, :])\n",
        "        # since sequence length is 7, LSTM outputs predictions for 7 last days\n",
        "        # but we need only 1 last day, so we pick last hidden state vectors\n",
        "        # so, the shape of input for linear layer is [16, 4] - 16 samples of 4-sized vectors\n",
        "\n",
        "        return out"
      ],
      "metadata": {
        "id": "tQSxhLxdb1vW"
      },
      "execution_count": 21,
      "outputs": []
    },
    {
      "cell_type": "code",
      "source": [
        "model = ModelLSTM(1, 4, 1)\n",
        "model.to(device)\n",
        "model"
      ],
      "metadata": {
        "id": "32dvM0qls6u-",
        "colab": {
          "base_uri": "https://localhost:8080/"
        },
        "outputId": "1b8cde41-a61a-400a-b074-6f2033ee754a"
      },
      "execution_count": 22,
      "outputs": [
        {
          "output_type": "execute_result",
          "data": {
            "text/plain": [
              "ModelLSTM(\n",
              "  (lstm): LSTM(1, 4, batch_first=True)\n",
              "  (fc): Linear(in_features=4, out_features=1, bias=True)\n",
              ")"
            ]
          },
          "metadata": {},
          "execution_count": 22
        }
      ]
    },
    {
      "cell_type": "code",
      "source": [
        "rnn = nn.LSTM(input_size=1, hidden_size=4, num_layers=1, batch_first=True)\n",
        "input = torch.randn(16, 7, 1) #batch_size=16, sequence_length=7, num_features=1\n",
        "h0 = torch.zeros(1, 16, 4) # num_layers=1, batch_size=16, hidden_size=4\n",
        "c0 = torch.zeros(1, 16, 4)\n",
        "output, (hn, cn) = rnn(input, (h0, c0))\n",
        "output.shape, hn.shape, cn.shape, output[:, -1, :].shape"
      ],
      "metadata": {
        "id": "OT9f3yMQddUB",
        "colab": {
          "base_uri": "https://localhost:8080/"
        },
        "outputId": "d5841534-0bb9-42b3-e7f9-f66b40682d27"
      },
      "execution_count": 23,
      "outputs": [
        {
          "output_type": "execute_result",
          "data": {
            "text/plain": [
              "(torch.Size([16, 7, 4]),\n",
              " torch.Size([1, 16, 4]),\n",
              " torch.Size([1, 16, 4]),\n",
              " torch.Size([16, 4]))"
            ]
          },
          "metadata": {},
          "execution_count": 23
        }
      ]
    },
    {
      "cell_type": "code",
      "source": [
        "print(output)\n",
        "print(output[:, -1, :])"
      ],
      "metadata": {
        "colab": {
          "base_uri": "https://localhost:8080/"
        },
        "id": "W4ykpTIwwjH5",
        "outputId": "92d0ca80-7141-4bdb-b4d6-59845067bc36"
      },
      "execution_count": 24,
      "outputs": [
        {
          "output_type": "stream",
          "name": "stdout",
          "text": [
            "tensor([[[-1.4024e-02,  1.7026e-01,  1.7097e-01, -1.7388e-01],\n",
            "         [-2.6167e-02,  2.3282e-01,  2.2680e-01, -2.5974e-01],\n",
            "         [ 3.9755e-02,  7.2875e-02,  1.1617e-01, -1.5785e-01],\n",
            "         [-1.9781e-04,  1.7657e-01,  1.6930e-01, -3.0688e-01],\n",
            "         [ 5.2264e-02,  8.5259e-02,  1.0990e-01, -2.0670e-01],\n",
            "         [ 3.2690e-02,  1.2212e-01,  1.2053e-01, -2.7332e-01],\n",
            "         [ 1.7236e-02,  1.5124e-01,  1.4194e-01, -2.9925e-01]],\n",
            "\n",
            "        [[-2.2483e-03,  1.2664e-01,  1.0807e-01, -1.6468e-01],\n",
            "         [-1.0055e-02,  1.8062e-01,  1.5458e-01, -2.4684e-01],\n",
            "         [ 3.6387e-02,  9.8553e-02,  1.0437e-01, -1.9647e-01],\n",
            "         [ 4.5998e-02,  1.0098e-01,  1.0057e-01, -2.3388e-01],\n",
            "         [ 5.9234e-02,  8.8724e-02,  9.5482e-02, -2.3477e-01],\n",
            "         [ 3.0252e-02,  1.3254e-01,  1.2572e-01, -2.9007e-01],\n",
            "         [ 2.5646e-02,  1.3710e-01,  1.3102e-01, -2.8310e-01]],\n",
            "\n",
            "        [[ 3.8291e-02,  4.8431e-02,  4.7747e-02, -1.2883e-01],\n",
            "         [ 9.9586e-02,  2.0621e-02,  4.9789e-02, -1.5154e-01],\n",
            "         [ 3.1841e-02,  1.1580e-01,  1.2113e-01, -2.7698e-01],\n",
            "         [ 2.5641e-02,  1.2922e-01,  1.3111e-01, -2.7097e-01],\n",
            "         [ 4.6646e-02,  1.0095e-01,  1.0932e-01, -2.3962e-01],\n",
            "         [ 2.6958e-02,  1.3573e-01,  1.2809e-01, -2.8733e-01],\n",
            "         [-1.1577e-02,  2.3759e-01,  2.5952e-01, -3.8379e-01]],\n",
            "\n",
            "        [[-4.6300e-03,  1.3351e-01,  1.1587e-01, -1.6709e-01],\n",
            "         [ 4.9962e-02,  6.8859e-02,  8.1881e-02, -1.6238e-01],\n",
            "         [-5.0071e-03,  2.0354e-01,  2.0599e-01, -3.2098e-01],\n",
            "         [ 9.5208e-02,  3.8478e-02,  1.0404e-01, -1.5126e-01],\n",
            "         [ 9.9376e-02,  2.9537e-02,  8.4470e-02, -1.9945e-01],\n",
            "         [ 8.4978e-03,  1.6680e-01,  1.9782e-01, -3.5796e-01],\n",
            "         [ 2.3895e-02,  1.1875e-01,  1.4417e-01, -2.5944e-01]],\n",
            "\n",
            "        [[ 1.5193e-02,  8.6802e-02,  7.2195e-02, -1.4770e-01],\n",
            "         [ 5.3253e-02,  7.0789e-02,  7.4123e-02, -1.7800e-01],\n",
            "         [ 5.6050e-03,  1.7361e-01,  1.6253e-01, -3.0169e-01],\n",
            "         [ 2.0890e-02,  1.3022e-01,  1.2983e-01, -2.4907e-01],\n",
            "         [-9.4060e-03,  2.1537e-01,  2.0517e-01, -3.4806e-01],\n",
            "         [ 8.3616e-03,  1.4382e-01,  1.4580e-01, -2.6048e-01],\n",
            "         [ 8.6990e-02,  5.6611e-02,  9.3025e-02, -1.8611e-01]],\n",
            "\n",
            "        [[ 7.9385e-02,  1.0014e-03,  2.5315e-02, -1.0294e-01],\n",
            "         [ 1.3613e-02,  1.3468e-01,  1.4252e-01, -2.6075e-01],\n",
            "         [ 4.8941e-02,  8.3259e-02,  1.0457e-01, -2.0533e-01],\n",
            "         [-3.8586e-03,  2.0178e-01,  2.0573e-01, -3.4340e-01],\n",
            "         [ 9.5118e-02,  4.1737e-02,  1.0629e-01, -1.6045e-01],\n",
            "         [ 2.7121e-02,  1.2585e-01,  1.3749e-01, -2.9917e-01],\n",
            "         [ 7.7934e-02,  6.2462e-02,  9.8171e-02, -2.0980e-01]],\n",
            "\n",
            "        [[ 2.2867e-02,  7.2746e-02,  6.2361e-02, -1.4099e-01],\n",
            "         [ 7.2507e-02,  4.8621e-02,  6.2953e-02, -1.6544e-01],\n",
            "         [ 9.9842e-02,  3.2712e-02,  6.3102e-02, -1.8564e-01],\n",
            "         [ 1.3629e-02,  1.5967e-01,  1.7361e-01, -3.3323e-01],\n",
            "         [-7.1545e-03,  1.9205e-01,  2.0100e-01, -3.3284e-01],\n",
            "         [ 3.2835e-03,  1.5296e-01,  1.5467e-01, -2.7698e-01],\n",
            "         [ 2.2911e-02,  1.3089e-01,  1.2788e-01, -2.6077e-01]],\n",
            "\n",
            "        [[ 1.7654e-02,  8.2125e-02,  6.8792e-02, -1.4550e-01],\n",
            "         [ 1.0486e-02,  1.4021e-01,  1.1881e-01, -2.3211e-01],\n",
            "         [ 7.6376e-02,  5.9991e-02,  8.1790e-02, -1.7670e-01],\n",
            "         [ 8.9954e-02,  4.8243e-02,  7.5670e-02, -2.0468e-01],\n",
            "         [ 7.3237e-02,  6.6241e-02,  8.7882e-02, -2.3981e-01],\n",
            "         [ 2.4983e-01, -3.4405e-02,  4.8346e-02, -1.1022e-01],\n",
            "         [ 3.6920e-02,  9.9977e-02,  1.5460e-01, -3.4898e-01]],\n",
            "\n",
            "        [[ 2.2417e-02,  7.3529e-02,  6.2879e-02, -1.4137e-01],\n",
            "         [ 1.2473e-01,  4.4239e-03,  4.6296e-02, -1.2817e-01],\n",
            "         [ 2.2515e-01, -4.9364e-02,  3.1902e-02, -1.1605e-01],\n",
            "         [ 1.0323e-01, -1.7045e-03,  6.7459e-02, -2.3717e-01],\n",
            "         [ 1.7094e-01, -2.7927e-02,  5.4552e-02, -1.6449e-01],\n",
            "         [ 4.4804e-02,  8.3289e-02,  1.3070e-01, -3.1631e-01],\n",
            "         [ 1.8020e-01, -1.4519e-02,  7.3692e-02, -1.4177e-01]],\n",
            "\n",
            "        [[ 2.5012e-02,  6.9077e-02,  5.9976e-02, -1.3920e-01],\n",
            "         [ 1.3593e-02,  1.3521e-01,  1.1631e-01, -2.3291e-01],\n",
            "         [ 2.4660e-02,  1.2616e-01,  1.1424e-01, -2.3846e-01],\n",
            "         [ 3.0597e-02,  1.2556e-01,  1.1432e-01, -2.5303e-01],\n",
            "         [ 1.2223e-01,  3.1219e-02,  7.3372e-02, -1.6716e-01],\n",
            "         [ 6.2002e-02,  7.9805e-02,  9.7361e-02, -2.6433e-01],\n",
            "         [ 2.0207e-02,  1.4692e-01,  1.5177e-01, -3.1890e-01]],\n",
            "\n",
            "        [[ 7.4378e-02,  5.7211e-03,  2.7285e-02, -1.0569e-01],\n",
            "         [ 1.2711e-01, -9.5297e-03,  3.7023e-02, -1.4404e-01],\n",
            "         [ 7.7513e-02,  4.2086e-02,  7.5581e-02, -2.2879e-01],\n",
            "         [ 5.3624e-02,  8.4762e-02,  1.0531e-01, -2.5865e-01],\n",
            "         [ 1.2123e-01,  2.3270e-02,  7.4269e-02, -1.8118e-01],\n",
            "         [ 1.0473e-01,  2.7505e-02,  7.4158e-02, -2.1849e-01],\n",
            "         [ 2.1639e-02,  1.4000e-01,  1.6274e-01, -3.3954e-01]],\n",
            "\n",
            "        [[ 4.0116e-02,  4.5840e-02,  4.6340e-02, -1.2749e-01],\n",
            "         [ 3.9057e-02,  9.0603e-02,  8.5689e-02, -2.0785e-01],\n",
            "         [ 2.5684e-02,  1.2908e-01,  1.1808e-01, -2.5796e-01],\n",
            "         [ 9.6859e-02,  4.7335e-02,  8.0059e-02, -1.8052e-01],\n",
            "         [ 1.7271e-02,  1.5540e-01,  1.5628e-01, -3.2712e-01],\n",
            "         [ 1.9280e-02,  1.3903e-01,  1.4242e-01, -2.7986e-01],\n",
            "         [ 3.5992e-02,  1.1582e-01,  1.1922e-01, -2.5446e-01]],\n",
            "\n",
            "        [[ 1.5128e-02,  8.6930e-02,  7.2289e-02, -1.4776e-01],\n",
            "         [ 1.0030e-01,  2.3125e-02,  5.4806e-02, -1.4003e-01],\n",
            "         [ 8.3768e-03,  1.6702e-01,  1.8118e-01, -3.1775e-01],\n",
            "         [ 1.1205e-01,  2.7229e-02,  9.5673e-02, -1.5288e-01],\n",
            "         [ 3.8498e-02,  1.0419e-01,  1.2443e-01, -2.8403e-01],\n",
            "         [ 5.7544e-03,  1.6979e-01,  1.7660e-01, -3.3059e-01],\n",
            "         [ 7.4580e-03,  1.5467e-01,  1.5496e-01, -2.9132e-01]],\n",
            "\n",
            "        [[ 1.3534e-02,  9.0057e-02,  7.4645e-02, -1.4922e-01],\n",
            "         [ 1.5728e-02,  1.2839e-01,  1.0859e-01, -2.2063e-01],\n",
            "         [ 5.6462e-03,  1.6477e-01,  1.4095e-01, -2.7324e-01],\n",
            "         [ 1.5981e-02,  1.4443e-01,  1.2870e-01, -2.5989e-01],\n",
            "         [ 9.8290e-03,  1.6354e-01,  1.4165e-01, -2.9087e-01],\n",
            "         [-9.7847e-03,  2.1351e-01,  1.9586e-01, -3.4392e-01],\n",
            "         [ 3.6243e-02,  1.0553e-01,  1.2255e-01, -2.2184e-01]],\n",
            "\n",
            "        [[ 5.9435e-02,  2.1410e-02,  3.4195e-02, -1.1452e-01],\n",
            "         [ 7.5352e-02,  4.0477e-02,  5.9166e-02, -1.7900e-01],\n",
            "         [ 8.0007e-02,  5.0641e-02,  7.3436e-02, -2.0878e-01],\n",
            "         [ 9.2610e-02,  4.3578e-02,  7.4797e-02, -2.1097e-01],\n",
            "         [-1.5132e-03,  2.0993e-01,  2.7589e-01, -3.8382e-01],\n",
            "         [ 7.8628e-02,  4.3017e-02,  1.3219e-01, -1.6590e-01],\n",
            "         [ 1.9657e-02,  1.2949e-01,  1.5150e-01, -3.0234e-01]],\n",
            "\n",
            "        [[ 7.4921e-02,  5.1968e-03,  2.7064e-02, -1.0539e-01],\n",
            "         [ 7.8956e-02,  3.3264e-02,  5.7119e-02, -1.8090e-01],\n",
            "         [ 1.1585e-01,  1.4759e-02,  5.7688e-02, -1.7854e-01],\n",
            "         [ 8.9479e-02,  3.9149e-02,  7.5311e-02, -2.2611e-01],\n",
            "         [ 1.2736e-01,  1.1520e-02,  6.5301e-02, -1.9047e-01],\n",
            "         [ 4.3439e-02,  9.9630e-02,  1.2329e-01, -3.0295e-01],\n",
            "         [ 1.6068e-02,  1.4857e-01,  1.5976e-01, -3.1718e-01]]],\n",
            "       grad_fn=<TransposeBackward0>)\n",
            "tensor([[ 0.0172,  0.1512,  0.1419, -0.2992],\n",
            "        [ 0.0256,  0.1371,  0.1310, -0.2831],\n",
            "        [-0.0116,  0.2376,  0.2595, -0.3838],\n",
            "        [ 0.0239,  0.1188,  0.1442, -0.2594],\n",
            "        [ 0.0870,  0.0566,  0.0930, -0.1861],\n",
            "        [ 0.0779,  0.0625,  0.0982, -0.2098],\n",
            "        [ 0.0229,  0.1309,  0.1279, -0.2608],\n",
            "        [ 0.0369,  0.1000,  0.1546, -0.3490],\n",
            "        [ 0.1802, -0.0145,  0.0737, -0.1418],\n",
            "        [ 0.0202,  0.1469,  0.1518, -0.3189],\n",
            "        [ 0.0216,  0.1400,  0.1627, -0.3395],\n",
            "        [ 0.0360,  0.1158,  0.1192, -0.2545],\n",
            "        [ 0.0075,  0.1547,  0.1550, -0.2913],\n",
            "        [ 0.0362,  0.1055,  0.1225, -0.2218],\n",
            "        [ 0.0197,  0.1295,  0.1515, -0.3023],\n",
            "        [ 0.0161,  0.1486,  0.1598, -0.3172]], grad_fn=<SliceBackward0>)\n"
          ]
        }
      ]
    },
    {
      "cell_type": "code",
      "source": [
        "print(torch.randn(16, 7, 1).shape)\n",
        "print(torch.zeros(16, 7, 1).shape)\n",
        "\n"
      ],
      "metadata": {
        "id": "-h7w9IwyiAmN",
        "colab": {
          "base_uri": "https://localhost:8080/"
        },
        "outputId": "6be5c593-c11f-4147-94f2-c64703853bf6"
      },
      "execution_count": 25,
      "outputs": [
        {
          "output_type": "stream",
          "name": "stdout",
          "text": [
            "torch.Size([16, 7, 1])\n",
            "torch.Size([16, 7, 1])\n"
          ]
        }
      ]
    },
    {
      "cell_type": "code",
      "source": [
        "def train():\n",
        "    epoch_loss = 0\n",
        "    model.train()\n",
        "\n",
        "    for batch_id, (X, y) in enumerate(loader['train']):\n",
        "        X, y = X.to(device), y.to(device)\n",
        "\n",
        "        optimizer.zero_grad()\n",
        "        out = model(X)          # forward pass\n",
        "        loss = LOSS(y, out)     # calculate loss\n",
        "        loss.backward()         # backprop\n",
        "        optimizer.step()        # update weights\n",
        "\n",
        "        epoch_loss += loss.item()\n",
        "\n",
        "    epoch_loss /= len(loader['train'])\n",
        "    # print(f'Train epoch: {epoch+1}, Loss: {epoch_loss}')\n",
        "\n",
        "    return epoch_loss\n",
        "\n",
        "def val():\n",
        "    epoch_loss = 0\n",
        "    model.train(False)\n",
        "\n",
        "\n",
        "    for X, y in loader['test']:\n",
        "        X, y = X.to(device), y.to(device)\n",
        "\n",
        "        with torch.no_grad():\n",
        "            out = model(X)\n",
        "            loss = LOSS(out, y)\n",
        "\n",
        "            epoch_loss += loss.item()\n",
        "\n",
        "    epoch_loss /= len(loader['test'])\n",
        "    # print(f'Evaluation loss: {epoch_loss}')\n",
        "\n",
        "    return epoch_loss"
      ],
      "metadata": {
        "id": "zYs2AgShnOKZ"
      },
      "execution_count": 35,
      "outputs": []
    },
    {
      "cell_type": "code",
      "source": [
        "EPOCHS = 15\n",
        "LOSS = nn.MSELoss()\n",
        "optimizer = torch.optim.Adam(model.parameters())\n",
        "\n",
        "train_loss_history = []\n",
        "val_loss_history = []\n",
        "\n",
        "\n",
        "for epoch in range(EPOCHS):\n",
        "    train_loss = train()\n",
        "    val_loss = val()\n",
        "\n",
        "    print(f'Train epoch: {epoch+1}, Loss: {train_loss:.4}, Val_loss:{val_loss:.4}')\n",
        "\n",
        "    train_loss_history.append(train_loss)\n",
        "    val_loss_history.append(val_loss)"
      ],
      "metadata": {
        "id": "LbK6c7jbl6pa",
        "colab": {
          "base_uri": "https://localhost:8080/"
        },
        "outputId": "23a0a382-2460-4d5b-b226-64d98fb5be7c"
      },
      "execution_count": 36,
      "outputs": [
        {
          "output_type": "stream",
          "name": "stdout",
          "text": [
            "Train epoch: 1, Loss: 0.0001197, Val_loss:0.001623\n",
            "Train epoch: 2, Loss: 0.000121, Val_loss:0.00187\n",
            "Train epoch: 3, Loss: 0.000118, Val_loss:0.001541\n",
            "Train epoch: 4, Loss: 0.0001185, Val_loss:0.001673\n",
            "Train epoch: 5, Loss: 0.0001134, Val_loss:0.001865\n",
            "Train epoch: 6, Loss: 0.0001189, Val_loss:0.001546\n",
            "Train epoch: 7, Loss: 0.0001197, Val_loss:0.001546\n",
            "Train epoch: 8, Loss: 0.0001158, Val_loss:0.001606\n",
            "Train epoch: 9, Loss: 0.0001221, Val_loss:0.00191\n",
            "Train epoch: 10, Loss: 0.0001176, Val_loss:0.001879\n",
            "Train epoch: 11, Loss: 0.0001146, Val_loss:0.001706\n",
            "Train epoch: 12, Loss: 0.0001185, Val_loss:0.001525\n",
            "Train epoch: 13, Loss: 0.0001162, Val_loss:0.001552\n",
            "Train epoch: 14, Loss: 0.0001151, Val_loss:0.001532\n",
            "Train epoch: 15, Loss: 0.0001188, Val_loss:0.001538\n"
          ]
        }
      ]
    },
    {
      "cell_type": "code",
      "source": [
        "plt.style.use('ggplot')\n",
        "plt.plot(train_loss_history, label='training loss')\n",
        "plt.plot(val_loss_history, label='validation loss')\n",
        "plt.legend()\n",
        "plt.show()"
      ],
      "metadata": {
        "colab": {
          "base_uri": "https://localhost:8080/",
          "height": 430
        },
        "id": "FgSRm8Frtljg",
        "outputId": "ccc5514c-d0d1-46af-94f5-593266e7d3f0"
      },
      "execution_count": 37,
      "outputs": [
        {
          "output_type": "display_data",
          "data": {
            "text/plain": [
              "<Figure size 640x480 with 1 Axes>"
            ],
            "image/png": "[encoded data removed]"
          },
          "metadata": {}
        }
      ]
    },
    {
      "cell_type": "code",
      "source": [
        "with torch.no_grad():\n",
        "    predicted = model(X_train.to(device)).to('cpu').numpy()\n",
        "\n",
        "plt.plot(y_train, label='Actual Close')\n",
        "plt.plot(predicted, label='Predicted Close')\n",
        "plt.xlabel('Day')\n",
        "plt.ylabel('Close')\n",
        "plt.legend()\n",
        "plt.show()"
      ],
      "metadata": {
        "colab": {
          "base_uri": "https://localhost:8080/",
          "height": 453
        },
        "id": "iS3gKdSLP7IV",
        "outputId": "7fc8f86c-411d-4707-a741-48926c7e6ee7"
      },
      "execution_count": 38,
      "outputs": [
        {
          "output_type": "display_data",
          "data": {
            "text/plain": [
              "<Figure size 640x480 with 1 Axes>"
            ],
            "image/png": "[encoded data removed]"
          },
          "metadata": {}
        }
      ]
    },
    {
      "cell_type": "code",
      "source": [
        "with torch.no_grad():\n",
        "    predicted = model(X_test.to(device)).to('cpu').numpy()\n",
        "\n",
        "plt.plot(y_test, label='Actual Close')\n",
        "plt.plot(predicted, label='Predicted Close')\n",
        "plt.xlabel('Day')\n",
        "plt.ylabel('Close')\n",
        "plt.legend()\n",
        "plt.show()"
      ],
      "metadata": {
        "colab": {
          "base_uri": "https://localhost:8080/",
          "height": 453
        },
        "id": "dvKDyu3_dD2H",
        "outputId": "562b3172-0c10-4392-dabd-f5d397530666"
      },
      "execution_count": 39,
      "outputs": [
        {
          "output_type": "display_data",
          "data": {
            "text/plain": [
              "<Figure size 640x480 with 1 Axes>"
            ],
            "image/png": "[encoded data removed]"
          },
          "metadata": {}
        }
      ]
    },
    {
      "cell_type": "code",
      "source": [
        "predictions = predicted.flatten()\n",
        "\n",
        "dummies = np.zeros((X_test.shape[0], lookback+1))\n",
        "dummies[:, 0] = predictions\n",
        "dummies = scaler.inverse_transform(dummies)\n",
        "\n",
        "predictions = dc(dummies[:, 0])\n",
        "predictions[:10]"
      ],
      "metadata": {
        "colab": {
          "base_uri": "https://localhost:8080/"
        },
        "id": "g8vOfGFZdOkD",
        "outputId": "4991ad83-672e-4e39-d9ea-e9f1520573d4"
      },
      "execution_count": 50,
      "outputs": [
        {
          "output_type": "execute_result",
          "data": {
            "text/plain": [
              "array([168.44645709, 169.46579463, 166.80565469, 169.79180078,\n",
              "       170.38760935, 170.42779458, 169.19037852, 170.07613213,\n",
              "       168.74895238, 168.21316043])"
            ]
          },
          "metadata": {},
          "execution_count": 50
        }
      ]
    },
    {
      "cell_type": "code",
      "source": [
        "dummies = np.zeros((X_test.shape[0], lookback+1))\n",
        "dummies[:, 0] = y_test.flatten()\n",
        "dummies = scaler.inverse_transform(dummies)\n",
        "\n",
        "new_y_test = dc(dummies[:, 0])\n",
        "new_y_test[:10]"
      ],
      "metadata": {
        "colab": {
          "base_uri": "https://localhost:8080/"
        },
        "id": "01OMbwxoeidz",
        "outputId": "63f5cf8a-a0fb-429c-dcd9-3d817b7ca37c"
      },
      "execution_count": 49,
      "outputs": [
        {
          "output_type": "execute_result",
          "data": {
            "text/plain": [
              "array([170.01749949, 167.07899763, 170.41700626, 171.03700377,\n",
              "       171.0684961 , 169.66949429, 170.66099675, 169.20100565,\n",
              "       168.64449858, 166.71699707])"
            ]
          },
          "metadata": {},
          "execution_count": 49
        }
      ]
    },
    {
      "cell_type": "code",
      "source": [
        "plt.plot(new_y_test, label='Actual Close')\n",
        "plt.plot(predictions, label='Predicted Close')\n",
        "plt.xlabel('Day')\n",
        "plt.ylabel('Close')\n",
        "plt.legend()\n",
        "plt.show()"
      ],
      "metadata": {
        "colab": {
          "base_uri": "https://localhost:8080/",
          "height": 453
        },
        "id": "j9b-PfeEf-ne",
        "outputId": "a36bbab9-ffab-4939-f797-9f34896ed302"
      },
      "execution_count": 46,
      "outputs": [
        {
          "output_type": "display_data",
          "data": {
            "text/plain": [
              "<Figure size 640x480 with 1 Axes>"
            ],
            "image/png": "[encoded data removed]"
          },
          "metadata": {}
        }
      ]
    },
    {
      "cell_type": "code",
      "source": [
        "dummies = np.zeros((X_train.shape[0], lookback+1))\n",
        "dummies[:, 0] = y_train.flatten()\n",
        "dummies = scaler.inverse_transform(dummies)\n",
        "\n",
        "new_y_train = dc(dummies[:, 0])\n",
        "new_y_train"
      ],
      "metadata": {
        "colab": {
          "base_uri": "https://localhost:8080/"
        },
        "id": "hsmO-0sjgfbV",
        "outputId": "0749e2a0-84c2-4542-bae2-bdacf2166406"
      },
      "execution_count": 47,
      "outputs": [
        {
          "output_type": "execute_result",
          "data": {
            "text/plain": [
              "array([7.91646265e-02, 7.65634249e-02, 7.52572660e-02, ...,\n",
              "       1.69091505e+02, 1.73315001e+02, 1.68871003e+02])"
            ]
          },
          "metadata": {},
          "execution_count": 47
        }
      ]
    },
    {
      "cell_type": "code",
      "source": [
        "dummy_vector = np.zeros(new_y_train.shape)\n",
        "predictions = np.concatenate((dummy_vector, predictions))\n",
        "\n",
        "plt.plot(new_y_train, label='Actual Close')\n",
        "plt.plot(predictions, label='Predicted Close')\n",
        "\n",
        "plt.xlabel('Day')\n",
        "plt.ylabel('Close')\n",
        "plt.legend()\n",
        "plt.show()"
      ],
      "metadata": {
        "colab": {
          "base_uri": "https://localhost:8080/",
          "height": 453
        },
        "id": "-iEDDDKqg6bV",
        "outputId": "131a546d-a682-47bc-821f-fb28aab1abf7"
      },
      "execution_count": 53,
      "outputs": [
        {
          "output_type": "display_data",
          "data": {
            "text/plain": [
              "<Figure size 640x480 with 1 Axes>"
            ],
            "image/png": "[encoded data removed]"
          },
          "metadata": {}
        }
      ]
    },
    {
      "cell_type": "code",
      "source": [],
      "metadata": {
        "id": "VYQORrpphJMC"
      },
      "execution_count": null,
      "outputs": []
    }
  ]
}