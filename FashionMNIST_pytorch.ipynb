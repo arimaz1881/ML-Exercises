{
  "nbformat": 4,
  "nbformat_minor": 0,
  "metadata": {
    "colab": {
      "provenance": [],
      "gpuType": "T4"
    },
    "kernelspec": {
      "name": "python3",
      "display_name": "Python 3"
    },
    "language_info": {
      "name": "python"
    },
    "accelerator": "GPU"
  },
  "cells": [
    {
      "cell_type": "code",
      "execution_count": 1,
      "metadata": {
        "id": "EUFsOe1QfjWb"
      },
      "outputs": [],
      "source": [
        "from torchvision import datasets\n",
        "from torchvision.transforms import ToTensor\n",
        "import torch"
      ]
    },
    {
      "cell_type": "code",
      "source": [
        "train_data = datasets.FashionMNIST(root='./data',\n",
        "                                   download=True,\n",
        "                                   train=True,\n",
        "                                   transform=ToTensor())"
      ],
      "metadata": {
        "id": "hhd5CBg_f9gz",
        "colab": {
          "base_uri": "https://localhost:8080/"
        },
        "outputId": "54d7c383-053e-4060-9d23-be0d0490bef8"
      },
      "execution_count": 2,
      "outputs": [
        {
          "output_type": "stream",
          "name": "stdout",
          "text": [
            "Downloading http://fashion-mnist.s3-website.eu-central-1.amazonaws.com/train-images-idx3-ubyte.gz\n",
            "Downloading http://fashion-mnist.s3-website.eu-central-1.amazonaws.com/train-images-idx3-ubyte.gz to ./data/FashionMNIST/raw/train-images-idx3-ubyte.gz\n"
          ]
        },
        {
          "output_type": "stream",
          "name": "stderr",
          "text": [
            "100%|██████████| 26421880/26421880 [00:01<00:00, 14847515.71it/s]\n"
          ]
        },
        {
          "output_type": "stream",
          "name": "stdout",
          "text": [
            "Extracting ./data/FashionMNIST/raw/train-images-idx3-ubyte.gz to ./data/FashionMNIST/raw\n",
            "\n",
            "Downloading http://fashion-mnist.s3-website.eu-central-1.amazonaws.com/train-labels-idx1-ubyte.gz\n",
            "Downloading http://fashion-mnist.s3-website.eu-central-1.amazonaws.com/train-labels-idx1-ubyte.gz to ./data/FashionMNIST/raw/train-labels-idx1-ubyte.gz\n"
          ]
        },
        {
          "output_type": "stream",
          "name": "stderr",
          "text": [
            "100%|██████████| 29515/29515 [00:00<00:00, 274133.57it/s]\n"
          ]
        },
        {
          "output_type": "stream",
          "name": "stdout",
          "text": [
            "Extracting ./data/FashionMNIST/raw/train-labels-idx1-ubyte.gz to ./data/FashionMNIST/raw\n",
            "\n",
            "Downloading http://fashion-mnist.s3-website.eu-central-1.amazonaws.com/t10k-images-idx3-ubyte.gz\n",
            "Downloading http://fashion-mnist.s3-website.eu-central-1.amazonaws.com/t10k-images-idx3-ubyte.gz to ./data/FashionMNIST/raw/t10k-images-idx3-ubyte.gz\n"
          ]
        },
        {
          "output_type": "stream",
          "name": "stderr",
          "text": [
            "100%|██████████| 4422102/4422102 [00:00<00:00, 4916108.10it/s]\n"
          ]
        },
        {
          "output_type": "stream",
          "name": "stdout",
          "text": [
            "Extracting ./data/FashionMNIST/raw/t10k-images-idx3-ubyte.gz to ./data/FashionMNIST/raw\n",
            "\n",
            "Downloading http://fashion-mnist.s3-website.eu-central-1.amazonaws.com/t10k-labels-idx1-ubyte.gz\n",
            "Downloading http://fashion-mnist.s3-website.eu-central-1.amazonaws.com/t10k-labels-idx1-ubyte.gz to ./data/FashionMNIST/raw/t10k-labels-idx1-ubyte.gz\n"
          ]
        },
        {
          "output_type": "stream",
          "name": "stderr",
          "text": [
            "100%|██████████| 5148/5148 [00:00<00:00, 22032935.71it/s]"
          ]
        },
        {
          "output_type": "stream",
          "name": "stdout",
          "text": [
            "Extracting ./data/FashionMNIST/raw/t10k-labels-idx1-ubyte.gz to ./data/FashionMNIST/raw\n",
            "\n"
          ]
        },
        {
          "output_type": "stream",
          "name": "stderr",
          "text": [
            "\n"
          ]
        }
      ]
    },
    {
      "cell_type": "code",
      "source": [
        "train_data.data.size()"
      ],
      "metadata": {
        "colab": {
          "base_uri": "https://localhost:8080/"
        },
        "id": "GF-WBHzDltW-",
        "outputId": "676e7cf7-d9ec-488b-adef-68f541caeb43"
      },
      "execution_count": 3,
      "outputs": [
        {
          "output_type": "execute_result",
          "data": {
            "text/plain": [
              "torch.Size([60000, 28, 28])"
            ]
          },
          "metadata": {},
          "execution_count": 3
        }
      ]
    },
    {
      "cell_type": "code",
      "source": [
        "torch.unique(train_data.targets) #we have 10 classes"
      ],
      "metadata": {
        "colab": {
          "base_uri": "https://localhost:8080/"
        },
        "id": "7oJSkBjIrBjo",
        "outputId": "ff706ece-e131-4d46-82dd-3eaa1f8c5251"
      },
      "execution_count": 4,
      "outputs": [
        {
          "output_type": "execute_result",
          "data": {
            "text/plain": [
              "tensor([0, 1, 2, 3, 4, 5, 6, 7, 8, 9])"
            ]
          },
          "metadata": {},
          "execution_count": 4
        }
      ]
    },
    {
      "cell_type": "code",
      "source": [
        "test_data = datasets.FashionMNIST(root='./data', download=True, train=False, transform=ToTensor())"
      ],
      "metadata": {
        "id": "A2KQy2iWl9h2"
      },
      "execution_count": 5,
      "outputs": []
    },
    {
      "cell_type": "code",
      "source": [
        "test_data.data.size()"
      ],
      "metadata": {
        "colab": {
          "base_uri": "https://localhost:8080/"
        },
        "id": "5-o2I9BboPlv",
        "outputId": "4a6e491b-4528-447c-f7b8-ddece2f58db1"
      },
      "execution_count": 6,
      "outputs": [
        {
          "output_type": "execute_result",
          "data": {
            "text/plain": [
              "torch.Size([10000, 28, 28])"
            ]
          },
          "metadata": {},
          "execution_count": 6
        }
      ]
    },
    {
      "cell_type": "code",
      "source": [
        "BATCH_SIZE = 64\n",
        "\n",
        "loader = {\n",
        "    'train': torch.utils.data.DataLoader(dataset=train_data,\n",
        "                                         batch_size=BATCH_SIZE,\n",
        "                                         shuffle=True,\n",
        "                                         num_workers=2),\n",
        "\n",
        "    'test': torch.utils.data.DataLoader(dataset=test_data,\n",
        "                                        batch_size=BATCH_SIZE,\n",
        "                                        shuffle=True,\n",
        "                                        num_workers=2)\n",
        "}"
      ],
      "metadata": {
        "id": "F1JcIvFdmiba"
      },
      "execution_count": 7,
      "outputs": []
    },
    {
      "cell_type": "code",
      "source": [
        "import torch.nn as nn\n",
        "import torch.nn.functional as F\n",
        "import torch.optim as optim\n",
        "\n",
        "class CNN(nn.Module):\n",
        "  def __init__(self):\n",
        "    super(CNN, self).__init__()\n",
        "\n",
        "    self.conv1 = nn.Conv2d(in_channels=1, out_channels=16, kernel_size=3, padding=1)\n",
        "    self.conv2 = nn.Conv2d(in_channels=16, out_channels=32, kernel_size=3)\n",
        "    self.conv3 = nn.Conv2d(in_channels=32, out_channels=64, kernel_size=2)\n",
        "    self.fc1 = nn.Linear(in_features=2*2*64, out_features=288)\n",
        "    self.fc2 = nn.Linear(in_features=288, out_features=10)\n",
        "    self.dropout = nn.Dropout(0.3)\n",
        "\n",
        "  def forward(self, x):\n",
        "    x = F.relu(self.conv1(x))\n",
        "    x = F.max_pool2d(x, 2, 2)\n",
        "    x = F.relu(self.conv2(x))\n",
        "    x = F.max_pool2d(x, 2, 2) # output shape torch.Size([200, 32, 7, 7])\n",
        "    x = F.relu(self.conv3(x))\n",
        "    x = F.max_pool2d(x, 2, 2)\n",
        "    x = x.view(-1, 2*2*64)\n",
        "    x = F.relu(self.fc1(x))\n",
        "    x = self.dropout(x)\n",
        "    x = self.fc2(x)\n",
        "\n",
        "    return F.softmax(x)"
      ],
      "metadata": {
        "id": "5wvSMusoomc8"
      },
      "execution_count": 37,
      "outputs": []
    },
    {
      "cell_type": "code",
      "source": [
        "len(loader['train'].dataset)"
      ],
      "metadata": {
        "colab": {
          "base_uri": "https://localhost:8080/"
        },
        "id": "3xH6xZQ-xTSU",
        "outputId": "891e7c6f-d527-4a9a-dbdb-6e53abeae64d"
      },
      "execution_count": 62,
      "outputs": [
        {
          "output_type": "execute_result",
          "data": {
            "text/plain": [
              "60000"
            ]
          },
          "metadata": {},
          "execution_count": 62
        }
      ]
    },
    {
      "cell_type": "code",
      "source": [
        "len(loader['train'])*BATCH_SIZE"
      ],
      "metadata": {
        "colab": {
          "base_uri": "https://localhost:8080/"
        },
        "id": "_4rM3LfpxfX4",
        "outputId": "8a340464-f8a9-44bd-831e-5349c584c01a"
      },
      "execution_count": 61,
      "outputs": [
        {
          "output_type": "execute_result",
          "data": {
            "text/plain": [
              "60032"
            ]
          },
          "metadata": {},
          "execution_count": 61
        }
      ]
    },
    {
      "cell_type": "code",
      "source": [
        "for inputs, targets in loader['train']:\n",
        "  print(targets.data)\n",
        "  break"
      ],
      "metadata": {
        "colab": {
          "base_uri": "https://localhost:8080/"
        },
        "id": "jZ_praad0Q8E",
        "outputId": "7156bb7e-f614-490a-f969-cbb5f2922345"
      },
      "execution_count": 11,
      "outputs": [
        {
          "output_type": "stream",
          "name": "stdout",
          "text": [
            "tensor([5, 3, 7, 5, 7, 3, 4, 2, 2, 8, 4, 8, 0, 7, 5, 4, 1, 4, 6, 9, 5, 0, 7, 7,\n",
            "        6, 5, 7, 7, 8, 7, 5, 2, 0, 2, 0, 8, 2, 8, 9, 2, 3, 6, 1, 9, 5, 7, 2, 2,\n",
            "        5, 0, 3, 0, 7, 0, 9, 1, 9, 8, 5, 9, 3, 8, 2, 3])\n"
          ]
        }
      ]
    },
    {
      "cell_type": "code",
      "source": [
        "for inputs, targets in loader['train']:\n",
        "  print(targets)\n",
        "  break"
      ],
      "metadata": {
        "colab": {
          "base_uri": "https://localhost:8080/"
        },
        "id": "SgdnR3tT1pet",
        "outputId": "86707dea-7d4c-4316-f0f1-455bdd6f1839"
      },
      "execution_count": 12,
      "outputs": [
        {
          "output_type": "stream",
          "name": "stdout",
          "text": [
            "tensor([0, 0, 5, 1, 8, 5, 0, 4, 5, 3, 0, 3, 2, 0, 1, 1, 2, 0, 2, 3, 6, 2, 9, 5,\n",
            "        1, 7, 7, 7, 2, 6, 2, 0, 9, 5, 5, 9, 2, 1, 0, 1, 4, 8, 6, 2, 6, 3, 6, 4,\n",
            "        1, 4, 6, 7, 5, 7, 2, 5, 6, 1, 7, 2, 0, 0, 8, 6])\n"
          ]
        }
      ]
    },
    {
      "cell_type": "code",
      "source": [
        "\n",
        "device = torch.device('cuda' if torch.cuda.is_available() else 'cpu')\n",
        "print(\"Device:\", device)\n",
        "\n",
        "model = CNN().to(device)\n",
        "\n",
        "optimizer = optim.Adam(model.parameters(), lr=0.001)\n",
        "\n",
        "loss_fn = nn.CrossEntropyLoss()\n",
        "\n",
        "def train(epoch):\n",
        "  model.train()\n",
        "\n",
        "  train_loss = 0 # train loss per epoch\n",
        "  corrects = 0\n",
        "\n",
        "  for batch_id, (inputs, targets) in enumerate(loader['train']):\n",
        "    inputs, targets = inputs.to(device), targets.to(device)\n",
        "\n",
        "    optimizer.zero_grad()\n",
        "    outputs = model(inputs)\n",
        "    loss = loss_fn(outputs, targets)\n",
        "    loss.backward()\n",
        "    optimizer.step()\n",
        "\n",
        "    pred = outputs.argmax(dim=1, keepdim=False)\n",
        "    corrects += torch.sum(pred == targets.data)\n",
        "    train_loss += loss.item()\n",
        "  print(f'\\nTrain Epoch: {epoch} Avr loss: [{train_loss / len(loader[\"train\"].dataset)}]\\tAccuracy: [{corrects / len(loader[\"train\"].dataset):.0%}]')\n",
        "  return train_loss/6, corrects/6\n",
        "\n",
        "\n",
        "def test():\n",
        "  model.eval()\n",
        "\n",
        "  test_loss = 0\n",
        "  corrects = 0\n",
        "\n",
        "  with torch.no_grad():\n",
        "    for val_inputs, val_targets in loader['test']:\n",
        "      val_inputs, val_targets = val_inputs.to(device), val_targets.to(device)\n",
        "\n",
        "      val_outputs = model(val_inputs)\n",
        "      loss = loss_fn(val_outputs, val_targets)\n",
        "      val_pred = val_outputs.argmax(dim=1)\n",
        "      test_loss += loss.item()\n",
        "      corrects += torch.sum(val_pred == val_targets.data)\n",
        "      # should print once at the end of each epoch\n",
        "    print(f'Test set: Average val_loss: {test_loss / len(loader[\"test\"].dataset)}, Val_Accuracy [{corrects}/{len(loader[\"test\"].dataset)} ({corrects / len(loader[\"test\"].dataset):.0%})]')\n",
        "  return test_loss, corrects\n",
        "\n",
        "\n"
      ],
      "metadata": {
        "colab": {
          "base_uri": "https://localhost:8080/"
        },
        "id": "vDxxit58tRlc",
        "outputId": "202e4024-1d3f-4057-de2e-a8fdfcebb4d7"
      },
      "execution_count": 74,
      "outputs": [
        {
          "output_type": "stream",
          "name": "stdout",
          "text": [
            "Device: cuda\n"
          ]
        }
      ]
    },
    {
      "cell_type": "code",
      "source": [
        "EPOCHS = 10\n",
        "\n",
        "train_loss_history = []\n",
        "train_acc_history = []\n",
        "val_loss_history = []\n",
        "val_acc_history = []\n",
        "\n",
        "for epoch in range(1, EPOCHS+1):\n",
        "  loss, acc = train(epoch)\n",
        "  train_loss_history.append(loss)\n",
        "  train_acc_history.append(acc.cpu().numpy())\n",
        "\n",
        "  val_loss, val_acc = test()\n",
        "  val_loss_history.append(val_loss)\n",
        "  val_acc_history.append(val_acc.cpu().numpy())\n",
        "\n"
      ],
      "metadata": {
        "colab": {
          "base_uri": "https://localhost:8080/"
        },
        "id": "PNmQGTm618Ze",
        "outputId": "5c32b9da-9fd6-464f-ebe9-57e00901ac64"
      },
      "execution_count": 54,
      "outputs": [
        {
          "output_type": "stream",
          "name": "stderr",
          "text": [
            "<ipython-input-37-c3556bd8f073>:28: UserWarning: Implicit dimension choice for softmax has been deprecated. Change the call to include dim=X as an argument.\n",
            "  return F.softmax(x)\n"
          ]
        },
        {
          "output_type": "stream",
          "name": "stdout",
          "text": [
            "\n",
            "Train Epoch: 1 Avr loss: [0.02767182751695315]\tAccuracy: [70%]\n",
            "Test set: Average val_loss: 0.026552149057388306, Val_Accuracy [7717/10000 (77%)]\n",
            "\n",
            "Train Epoch: 2 Avr loss: [0.0261308501124382]\tAccuracy: [79%]\n",
            "Test set: Average val_loss: 0.025939006459712984, Val_Accuracy [8108/10000 (81%)]\n",
            "\n",
            "Train Epoch: 3 Avr loss: [0.025774206990003587]\tAccuracy: [81%]\n",
            "Test set: Average val_loss: 0.025984409379959106, Val_Accuracy [8053/10000 (81%)]\n",
            "\n",
            "Train Epoch: 4 Avr loss: [0.025506127301851908]\tAccuracy: [83%]\n",
            "Test set: Average val_loss: 0.025527091240882874, Val_Accuracy [8359/10000 (84%)]\n",
            "\n",
            "Train Epoch: 5 Avr loss: [0.025329876510302225]\tAccuracy: [84%]\n",
            "Test set: Average val_loss: 0.025381712925434112, Val_Accuracy [8447/10000 (84%)]\n",
            "\n",
            "Train Epoch: 6 Avr loss: [0.025200414399305978]\tAccuracy: [85%]\n",
            "Test set: Average val_loss: 0.025528124403953554, Val_Accuracy [8357/10000 (84%)]\n",
            "\n",
            "Train Epoch: 7 Avr loss: [0.025104688986142477]\tAccuracy: [86%]\n",
            "Test set: Average val_loss: 0.025268790912628174, Val_Accuracy [8516/10000 (85%)]\n",
            "\n",
            "Train Epoch: 8 Avr loss: [0.02500753413438797]\tAccuracy: [86%]\n",
            "Test set: Average val_loss: 0.02523736071586609, Val_Accuracy [8543/10000 (85%)]\n",
            "\n",
            "Train Epoch: 9 Avr loss: [0.02496776540875435]\tAccuracy: [86%]\n",
            "Test set: Average val_loss: 0.02505869708061218, Val_Accuracy [8649/10000 (86%)]\n",
            "\n",
            "Train Epoch: 10 Avr loss: [0.024881181315581005]\tAccuracy: [87%]\n",
            "Test set: Average val_loss: 0.025199505233764647, Val_Accuracy [8560/10000 (86%)]\n"
          ]
        }
      ]
    },
    {
      "cell_type": "code",
      "source": [
        "import matplotlib.pyplot as plt\n",
        "plt.style.use('ggplot')\n",
        "plt.plot(train_loss_history, label='training loss')\n",
        "plt.plot(val_loss_history, label='validation loss')\n",
        "plt.legend()\n",
        "plt.show()"
      ],
      "metadata": {
        "id": "fmBDJONT8FFg",
        "colab": {
          "base_uri": "https://localhost:8080/",
          "height": 430
        },
        "outputId": "c3be79b7-21a4-45d2-82b8-b8b5d51b3893"
      },
      "execution_count": 55,
      "outputs": [
        {
          "output_type": "display_data",
          "data": {
            "text/plain": [
              "<Figure size 640x480 with 1 Axes>"
            ],
            "image/png": "[encoded data removed]"
          },
          "metadata": {}
        }
      ]
    },
    {
      "cell_type": "code",
      "source": [
        "plt.style.use('ggplot')\n",
        "plt.plot(train_acc_history, label='training accuracy')\n",
        "plt.plot(val_acc_history, label='validation accuracy')\n",
        "plt.legend()\n",
        "plt.show()"
      ],
      "metadata": {
        "colab": {
          "base_uri": "https://localhost:8080/",
          "height": 430
        },
        "id": "z8Z_ILIFMz0e",
        "outputId": "31da7576-74f7-4d9f-e582-855ce293e0ec"
      },
      "execution_count": 56,
      "outputs": [
        {
          "output_type": "display_data",
          "data": {
            "text/plain": [
              "<Figure size 640x480 with 1 Axes>"
            ],
            "image/png": "[encoded data removed]"
          },
          "metadata": {}
        }
      ]
    },
    {
      "cell_type": "code",
      "source": [
        "labels_map={\n",
        "    0: 'T-shirt',\n",
        "    1: 'Trouser',\n",
        "    2: 'Pullover',\n",
        "    3: 'Dress',\n",
        "    4: 'Coat',\n",
        "    5: 'Sandal',\n",
        "    6: 'Shirt',\n",
        "    7: 'Sneaker',\n",
        "    8: 'Bag',\n",
        "    9: 'Ankle Boot',\n",
        "}\n",
        "\n",
        "def plotImg():\n",
        "  figure = plt.figure(figsize = (10, 10))\n",
        "  cols, rows = 3, 3\n",
        "  model.to('cpu')\n",
        "\n",
        "  for i in range(1, cols*rows + 1):\n",
        "    sample_idx = torch.randint(len(train_data), size = (1,)).item()\n",
        "    image, true_label = train_data[sample_idx]\n",
        "    with torch.no_grad():\n",
        "      pred = model(image)\n",
        "      pred_label = pred.argmax(dim=1).item()\n",
        "      predicted, actual = labels_map[pred_label], labels_map[true_label]\n",
        "    figure.add_subplot(rows, cols, i)\n",
        "    plt.title(predicted)\n",
        "    plt.axis('off')\n",
        "    plt.imshow(image.squeeze(), cmap='gray')\n",
        "  plt.show()"
      ],
      "metadata": {
        "id": "O6p38cC_PBKB"
      },
      "execution_count": 72,
      "outputs": []
    },
    {
      "cell_type": "code",
      "source": [
        "plotImg()"
      ],
      "metadata": {
        "colab": {
          "base_uri": "https://localhost:8080/",
          "height": 866
        },
        "id": "Viav8Cp2oOcq",
        "outputId": "ecb1e84a-2b9b-4be8-e726-eddf2728c9c8"
      },
      "execution_count": 73,
      "outputs": [
        {
          "output_type": "stream",
          "name": "stderr",
          "text": [
            "<ipython-input-37-c3556bd8f073>:28: UserWarning: Implicit dimension choice for softmax has been deprecated. Change the call to include dim=X as an argument.\n",
            "  return F.softmax(x)\n"
          ]
        },
        {
          "output_type": "display_data",
          "data": {
            "text/plain": [
              "<Figure size 1000x1000 with 9 Axes>"
            ],
            "image/png": "[encoded data removed]"
          },
          "metadata": {}
        }
      ]
    },
    {
      "cell_type": "code",
      "source": [],
      "metadata": {
        "id": "N-TadIEvoQJm"
      },
      "execution_count": null,
      "outputs": []
    }
  ]
}